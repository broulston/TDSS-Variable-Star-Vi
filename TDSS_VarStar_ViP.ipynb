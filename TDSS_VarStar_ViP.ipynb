{
 "cells": [
  {
   "cell_type": "code",
   "execution_count": 4,
   "metadata": {},
   "outputs": [],
   "source": [
    "import matplotlib\n",
    "import matplotlib.pyplot as plt\n",
    "import matplotlib.ticker as ticker\n",
    "from matplotlib.gridspec import GridSpec\n",
    "import matplotlib.image as mpimg\n",
    "from mpl_toolkits.axes_grid1 import make_axes_locatable\n",
    "\n",
    "from urllib.parse import urlencode\n",
    "from urllib.request import urlretrieve\n",
    "\n",
    "import numpy as np\n",
    "import numpy.core.defchararray as np_f\n",
    "\n",
    "import pandas as pd\n",
    "\n",
    "import scipy as sci\n",
    "from scipy.stats import kde\n",
    "\n",
    "from subprocess import *\n",
    "import os\n",
    "import glob\n",
    "from pathlib import Path\n",
    "import re\n",
    "\n",
    "from astropy.table import Table\n",
    "from astropy import constants as const\n",
    "from astropy import units as u\n",
    "from astropy.io import fits\n",
    "from astropy import coordinates as coords\n",
    "\n",
    "import mimic_alpha as ma\n",
    "import VarStar_Vi_plot_functions as vi\n",
    "import importlib\n",
    "from tqdm import trange, tqdm"
   ]
  },
  {
   "cell_type": "markdown",
   "metadata": {},
   "source": [
    "## TDSS-VarStar ViP Setup\n",
    "\n",
    "The following code initilizes the setup for the ViP program. LC, spec, data, and output directories are assigned. Output direcotries are created as needed, and the base commands for Vartools are given."
   ]
  },
  {
   "cell_type": "code",
   "execution_count": 5,
   "metadata": {},
   "outputs": [],
   "source": [
    "vt_dir = '/usr/local/bin/'\n",
    "Vi_dir = \"/Users/benjaminroulston/Dropbox/Research/TDSS/Variable_Stars/WORKING_DIRECTORY/Vi/\"\n",
    "\n",
    "spAll_dir = \"/Users/benjaminroulston/Dropbox/Research/TDSS/Variable_Stars/HARD_COPY_ORGINAL_DATA/SDSS_spec/getting_prop_spec/\"\n",
    "spAll  = fits.open(spAll_dir+'spAll-v5_10_10_propSPEC.fits')\n",
    "\n",
    "main_lc_data_files_path=\"/Users/benjaminroulston/Dropbox/Research/TDSS/Variable_Stars/HARD_COPY_ORGINAL_DATA/CSS_LCs/csvs/\""
   ]
  },
  {
   "cell_type": "code",
   "execution_count": 6,
   "metadata": {},
   "outputs": [],
   "source": [
    "prop_out_dir, vt_outdir, lc_dir, Vi_plots_dir, datestr = vi.makeViDirs()\n",
    "csv_raw_ids, CSS_LCs, col_names = vi.getLCs()"
   ]
  },
  {
   "cell_type": "code",
   "execution_count": 7,
   "metadata": {},
   "outputs": [],
   "source": [
    "vartools_command = \" -LS 0.1 10.0 0.1 1 0 -Phase ls  -Killharm fix 1 1.0 1 1 1 \"+vt_outdir+\" fitonly \"\n",
    "vartools_command_header = \"Name LS_Period_1_0 Log10_LS_Prob_1_0 LS_Periodogram_Value_1_0 LS_SNR_1_0 \\\n",
    "                           Killharm_Mean_Mag_2 Killharm_Period_1_2 Killharm_Per1_Subharm_2_Sincoeff_2 \\\n",
    "                           Killharm_Per1_Subharm_2_Coscoeff_2 Killharm_Per1_Fundamental_Sincoeff_2 \\\n",
    "                           Killharm_Per1_Fundamental_Coscoeff_2 Killharm_Per1_Harm_2_Sincoeff_2 \\\n",
    "                           Killharm_Per1_Harm_2_Coscoeff_2 Killharm_Per1_Amplitude_2 \\n\"\n",
    "\n",
    "vartools_command_whitten = \" -LS 0.1 10.0 0.1 2 0 -Phase ls  -Killharm fix 1 1.0 1 1 1 \"+vt_outdir+\" fitonly \"\n",
    "vartools_command_header_whitten = \"Name LS_Period_1_0 Log10_LS_Prob_1_0 LS_Periodogram_Value_1_0 LS_SNR_1_0 \\\n",
    "                                LS_Period_1_1 Log10_LS_Prob_1_1 LS_Periodogram_Value_1_1 LS_SNR_1_1 \\\n",
    "                                Killharm_Mean_Mag_2 Killharm_Period_1_2 Killharm_Per1_Subharm_2_Sincoeff_2 \\\n",
    "                                Killharm_Per1_Subharm_2_Coscoeff_2 Killharm_Per1_Fundamental_Sincoeff_2 \\\n",
    "                                Killharm_Per1_Fundamental_Coscoeff_2 Killharm_Per1_Harm_2_Sincoeff_2 \\\n",
    "                                Killharm_Per1_Harm_2_Coscoeff_2 Killharm_Per1_Amplitude_2 \\n\"\n",
    "\n",
    "vartools_command_whitten2 = \" -LS 0.1 10.0 0.1 3 0 -Phase ls  -Killharm fix 1 1.0 1 1 1 \"+vt_outdir+\" fitonly \"\n",
    "vartools_command_header_whitten2 = \"Name LS_Period_1_0 Log10_LS_Prob_1_0 LS_Periodogram_Value_1_0 LS_SNR_1_0 \\\n",
    "                                LS_Period_1_1 Log10_LS_Prob_1_1 LS_Periodogram_Value_1_1 LS_SNR_1_1 \\\n",
    "                                Killharm_Mean_Mag_2 Killharm_Period_1_2 Killharm_Per1_Subharm_2_Sincoeff_2 \\\n",
    "                                Killharm_Per1_Subharm_2_Coscoeff_2 Killharm_Per1_Fundamental_Sincoeff_2 \\\n",
    "                                Killharm_Per1_Fundamental_Coscoeff_2 Killharm_Per1_Harm_2_Sincoeff_2 \\\n",
    "                                Killharm_Per1_Harm_2_Coscoeff_2 Killharm_Per1_Amplitude_2 \\n\"\n",
    "\n",
    "box_size = 10\n",
    "nbins=50"
   ]
  },
  {
   "cell_type": "code",
   "execution_count": 8,
   "metadata": {},
   "outputs": [],
   "source": [
    "ra_dec_css_ID = np.genfromtxt(\"sup_data/ra_dec_to_CSS_ID.txt\")\n",
    "css_ids = ra_dec_css_ID[:,0].astype(int)\n",
    "ra = ra_dec_css_ID[:,1]\n",
    "dec = ra_dec_css_ID[:,2]"
   ]
  },
  {
   "cell_type": "code",
   "execution_count": 9,
   "metadata": {},
   "outputs": [],
   "source": [
    "TDSSprop = vi.TDSSprop(nbins)"
   ]
  },
  {
   "cell_type": "code",
   "execution_count": 10,
   "metadata": {},
   "outputs": [],
   "source": [
    "latestFullVartoolsRun_filename = \"completed_Vi_prop_2019-10-01.csv\"\n",
    "latestFullVartoolsRun = vi.latestFullVartoolsRun(latestFullVartoolsRun_filename=prop_out_dir+latestFullVartoolsRun_filename)"
   ]
  },
  {
   "cell_type": "code",
   "execution_count": 11,
   "metadata": {},
   "outputs": [],
   "source": [
    "TDSS_cssid_orginal = TDSSprop.TDSS_cssid\n",
    "prop_header = \"ra, dec, lc_id, Per_ls, logProb_ls, Amp_ls, Mt, a95, lc_skew, Chi2, brtcutoff, brt10per, fnt10per, fntcutoff, errmn, ferrmn, ngood, nrejects, nabove, nbelow, Tspan100, Tspan95, isAlias, VarStat, Con, m, b_lin, chi2_lin, a, b_quad, c, chi2_quad, EqW\"\n",
    "\n",
    "hasViRun, prop_id, TDSS_cssid, properties = vi.checkViRun(TDSS_cssid_orginal)#if Vi has run, this will find where it let off and continue propid from there\n",
    "\n",
    "if hasViRun:\n",
    "    pass\n",
    "else:\n",
    "    properties = np.empty((csv_raw_ids.size,33))\n",
    "    prop_id = 0\n",
    "    TDSS_cssid = TDSS_cssid_orginal.copy()"
   ]
  },
  {
   "cell_type": "code",
   "execution_count": 12,
   "metadata": {},
   "outputs": [],
   "source": [
    "importlib.reload(vi)\n",
    "plt.ioff()  \n",
    "\n",
    "runVartools = True\n",
    "plotLCerr = False"
   ]
  },
  {
   "cell_type": "markdown",
   "metadata": {},
   "source": [
    "# Main ViP function calls"
   ]
  },
  {
   "cell_type": "code",
   "execution_count": 13,
   "metadata": {},
   "outputs": [
    {
     "name": "stderr",
     "output_type": "stream",
     "text": [
      "  0%|          | 41/19144 [06:36<56:04:14, 10.57s/it]"
     ]
    },
    {
     "ename": "KeyboardInterrupt",
     "evalue": "",
     "output_type": "error",
     "traceback": [
      "\u001b[0;31m---------------------------------------------------------------------------\u001b[0m",
      "\u001b[0;31mKeyboardInterrupt\u001b[0m                         Traceback (most recent call last)",
      "\u001b[0;32m<ipython-input-13-ebb2f4bebb32>\u001b[0m in \u001b[0;36m<module>\u001b[0;34m\u001b[0m\n\u001b[1;32m     60\u001b[0m         \u001b[0mthis_EqW\u001b[0m \u001b[0;34m=\u001b[0m \u001b[0mvi\u001b[0m\u001b[0;34m.\u001b[0m\u001b[0mplot_SDSS_prop_spec\u001b[0m\u001b[0;34m(\u001b[0m\u001b[0mplate\u001b[0m\u001b[0;34m,\u001b[0m \u001b[0mmjd\u001b[0m\u001b[0;34m,\u001b[0m \u001b[0mfiberid\u001b[0m\u001b[0;34m,\u001b[0m \u001b[0mobject_SDSS_gmr\u001b[0m\u001b[0;34m,\u001b[0m \u001b[0mobject_SDSS_Mr\u001b[0m\u001b[0;34m,\u001b[0m \u001b[0mTDSSprop\u001b[0m\u001b[0;34m,\u001b[0m \u001b[0mTDSS_file_index\u001b[0m\u001b[0;34m,\u001b[0m \u001b[0mbox_size\u001b[0m\u001b[0;34m,\u001b[0m \u001b[0mspAll\u001b[0m\u001b[0;34m,\u001b[0m \u001b[0max4\u001b[0m\u001b[0;34m)\u001b[0m\u001b[0;34m\u001b[0m\u001b[0;34m\u001b[0m\u001b[0m\n\u001b[1;32m     61\u001b[0m     \u001b[0;32melif\u001b[0m \u001b[0mnp\u001b[0m\u001b[0;34m.\u001b[0m\u001b[0misin\u001b[0m\u001b[0;34m(\u001b[0m\u001b[0mlong_filename\u001b[0m\u001b[0;34m,\u001b[0m \u001b[0mTDSSprop\u001b[0m\u001b[0;34m.\u001b[0m\u001b[0mDR14_spec_filenames\u001b[0m\u001b[0;34m)\u001b[0m\u001b[0;34m:\u001b[0m\u001b[0;34m\u001b[0m\u001b[0;34m\u001b[0m\u001b[0m\n\u001b[0;32m---> 62\u001b[0;31m         \u001b[0mthis_EqW\u001b[0m \u001b[0;34m=\u001b[0m \u001b[0mvi\u001b[0m\u001b[0;34m.\u001b[0m\u001b[0mplot_SDSS_DR_spec\u001b[0m\u001b[0;34m(\u001b[0m\u001b[0mplate_string\u001b[0m\u001b[0;34m,\u001b[0m \u001b[0mmjd_string\u001b[0m\u001b[0;34m,\u001b[0m \u001b[0mfiberid_string\u001b[0m\u001b[0;34m,\u001b[0m \u001b[0mobject_SDSS_gmr\u001b[0m\u001b[0;34m,\u001b[0m \u001b[0mobject_SDSS_Mr\u001b[0m\u001b[0;34m,\u001b[0m \u001b[0mTDSSprop\u001b[0m\u001b[0;34m,\u001b[0m \u001b[0mTDSS_file_index\u001b[0m\u001b[0;34m,\u001b[0m \u001b[0mbox_size\u001b[0m\u001b[0;34m,\u001b[0m \u001b[0max4\u001b[0m\u001b[0;34m)\u001b[0m\u001b[0;34m\u001b[0m\u001b[0;34m\u001b[0m\u001b[0m\n\u001b[0m\u001b[1;32m     63\u001b[0m     \u001b[0;32melse\u001b[0m\u001b[0;34m:\u001b[0m\u001b[0;34m\u001b[0m\u001b[0;34m\u001b[0m\u001b[0m\n\u001b[1;32m     64\u001b[0m         \u001b[0mprint\u001b[0m\u001b[0;34m(\u001b[0m\u001b[0;34m\"Error, spec isn't in DR14 OR prop lists.\"\u001b[0m\u001b[0;34m)\u001b[0m\u001b[0;34m\u001b[0m\u001b[0;34m\u001b[0m\u001b[0m\n",
      "\u001b[0;32m~/Dropbox/GitHub/TDSS-Variable-Star-ViP/VarStar_Vi_plot_functions.py\u001b[0m in \u001b[0;36mplot_SDSS_DR_spec\u001b[0;34m(plate_string, mjd_string, fiberid_string, object_color, object_SDSS_Mr, TDSSprop, TDSS_file_index, box_size, plt_ax)\u001b[0m\n\u001b[1;32m    451\u001b[0m     \u001b[0mmatched_spec_type\u001b[0m \u001b[0;34m=\u001b[0m \u001b[0mspectral_types\u001b[0m\u001b[0;34m[\u001b[0m\u001b[0mclose_color_match_index\u001b[0m\u001b[0;34m]\u001b[0m\u001b[0;34m[\u001b[0m\u001b[0;36m0\u001b[0m\u001b[0;34m]\u001b[0m\u001b[0;34m\u001b[0m\u001b[0;34m\u001b[0m\u001b[0m\n\u001b[1;32m    452\u001b[0m \u001b[0;34m\u001b[0m\u001b[0m\n\u001b[0;32m--> 453\u001b[0;31m     \u001b[0mpyhammerResults\u001b[0m \u001b[0;34m=\u001b[0m \u001b[0mnp\u001b[0m\u001b[0;34m.\u001b[0m\u001b[0mgenfromtxt\u001b[0m\u001b[0;34m(\u001b[0m\u001b[0;34m\"sup_data/PyHammerResults.csv\"\u001b[0m\u001b[0;34m,\u001b[0m \u001b[0mdelimiter\u001b[0m\u001b[0;34m=\u001b[0m\u001b[0;34m\",\"\u001b[0m\u001b[0;34m,\u001b[0m \u001b[0mcomments\u001b[0m\u001b[0;34m=\u001b[0m\u001b[0;34m\"#\"\u001b[0m\u001b[0;34m,\u001b[0m \u001b[0mdtype\u001b[0m\u001b[0;34m=\u001b[0m\u001b[0;34m\"U\"\u001b[0m\u001b[0;34m)\u001b[0m\u001b[0;34m\u001b[0m\u001b[0;34m\u001b[0m\u001b[0m\n\u001b[0m\u001b[1;32m    454\u001b[0m     \u001b[0mfilenames\u001b[0m \u001b[0;34m=\u001b[0m \u001b[0mpyhammerResults\u001b[0m\u001b[0;34m[\u001b[0m\u001b[0;34m:\u001b[0m\u001b[0;34m,\u001b[0m\u001b[0;36m0\u001b[0m\u001b[0;34m]\u001b[0m\u001b[0;34m\u001b[0m\u001b[0;34m\u001b[0m\u001b[0m\n\u001b[1;32m    455\u001b[0m     \u001b[0mfilenames\u001b[0m \u001b[0;34m=\u001b[0m \u001b[0mnp_f\u001b[0m\u001b[0;34m.\u001b[0m\u001b[0mreplace\u001b[0m\u001b[0;34m(\u001b[0m\u001b[0mfilenames\u001b[0m\u001b[0;34m,\u001b[0m \u001b[0;34m\".txt\"\u001b[0m\u001b[0;34m,\u001b[0m \u001b[0;34m\".fits\"\u001b[0m\u001b[0;34m)\u001b[0m\u001b[0;34m\u001b[0m\u001b[0;34m\u001b[0m\u001b[0m\n",
      "\u001b[0;32m~/anaconda3/envs/TDSS/lib/python3.7/site-packages/numpy/lib/npyio.py\u001b[0m in \u001b[0;36mgenfromtxt\u001b[0;34m(fname, dtype, comments, delimiter, skip_header, skip_footer, converters, missing_values, filling_values, usecols, names, excludelist, deletechars, replace_space, autostrip, case_sensitive, defaultfmt, unpack, usemask, loose, invalid_raise, max_rows, encoding)\u001b[0m\n\u001b[1;32m   2103\u001b[0m         rows = list(\n\u001b[1;32m   2104\u001b[0m             zip(*[[conv._loose_call(_r) for _r in map(itemgetter(i), rows)]\n\u001b[0;32m-> 2105\u001b[0;31m                   for (i, conv) in enumerate(converters)]))\n\u001b[0m\u001b[1;32m   2106\u001b[0m     \u001b[0;32melse\u001b[0m\u001b[0;34m:\u001b[0m\u001b[0;34m\u001b[0m\u001b[0;34m\u001b[0m\u001b[0m\n\u001b[1;32m   2107\u001b[0m         rows = list(\n",
      "\u001b[0;32m~/anaconda3/envs/TDSS/lib/python3.7/site-packages/numpy/lib/npyio.py\u001b[0m in \u001b[0;36m<listcomp>\u001b[0;34m(.0)\u001b[0m\n\u001b[1;32m   2103\u001b[0m         rows = list(\n\u001b[1;32m   2104\u001b[0m             zip(*[[conv._loose_call(_r) for _r in map(itemgetter(i), rows)]\n\u001b[0;32m-> 2105\u001b[0;31m                   for (i, conv) in enumerate(converters)]))\n\u001b[0m\u001b[1;32m   2106\u001b[0m     \u001b[0;32melse\u001b[0m\u001b[0;34m:\u001b[0m\u001b[0;34m\u001b[0m\u001b[0;34m\u001b[0m\u001b[0m\n\u001b[1;32m   2107\u001b[0m         rows = list(\n",
      "\u001b[0;32m~/anaconda3/envs/TDSS/lib/python3.7/site-packages/numpy/lib/npyio.py\u001b[0m in \u001b[0;36m<listcomp>\u001b[0;34m(.0)\u001b[0m\n\u001b[1;32m   2102\u001b[0m     \u001b[0;32mif\u001b[0m \u001b[0mloose\u001b[0m\u001b[0;34m:\u001b[0m\u001b[0;34m\u001b[0m\u001b[0;34m\u001b[0m\u001b[0m\n\u001b[1;32m   2103\u001b[0m         rows = list(\n\u001b[0;32m-> 2104\u001b[0;31m             zip(*[[conv._loose_call(_r) for _r in map(itemgetter(i), rows)]\n\u001b[0m\u001b[1;32m   2105\u001b[0m                   for (i, conv) in enumerate(converters)]))\n\u001b[1;32m   2106\u001b[0m     \u001b[0;32melse\u001b[0m\u001b[0;34m:\u001b[0m\u001b[0;34m\u001b[0m\u001b[0;34m\u001b[0m\u001b[0m\n",
      "\u001b[0;32m~/anaconda3/envs/TDSS/lib/python3.7/site-packages/numpy/lib/_iotools.py\u001b[0m in \u001b[0;36m_loose_call\u001b[0;34m(self, value)\u001b[0m\n\u001b[1;32m    714\u001b[0m     \u001b[0;32mdef\u001b[0m \u001b[0m_loose_call\u001b[0m\u001b[0;34m(\u001b[0m\u001b[0mself\u001b[0m\u001b[0;34m,\u001b[0m \u001b[0mvalue\u001b[0m\u001b[0;34m)\u001b[0m\u001b[0;34m:\u001b[0m\u001b[0;34m\u001b[0m\u001b[0;34m\u001b[0m\u001b[0m\n\u001b[1;32m    715\u001b[0m         \u001b[0;32mtry\u001b[0m\u001b[0;34m:\u001b[0m\u001b[0;34m\u001b[0m\u001b[0;34m\u001b[0m\u001b[0m\n\u001b[0;32m--> 716\u001b[0;31m             \u001b[0;32mreturn\u001b[0m \u001b[0mself\u001b[0m\u001b[0;34m.\u001b[0m\u001b[0mfunc\u001b[0m\u001b[0;34m(\u001b[0m\u001b[0mvalue\u001b[0m\u001b[0;34m)\u001b[0m\u001b[0;34m\u001b[0m\u001b[0;34m\u001b[0m\u001b[0m\n\u001b[0m\u001b[1;32m    717\u001b[0m         \u001b[0;32mexcept\u001b[0m \u001b[0mValueError\u001b[0m\u001b[0;34m:\u001b[0m\u001b[0;34m\u001b[0m\u001b[0;34m\u001b[0m\u001b[0m\n\u001b[1;32m    718\u001b[0m             \u001b[0;32mreturn\u001b[0m \u001b[0mself\u001b[0m\u001b[0;34m.\u001b[0m\u001b[0mdefault\u001b[0m\u001b[0;34m\u001b[0m\u001b[0;34m\u001b[0m\u001b[0m\n",
      "\u001b[0;32m~/anaconda3/envs/TDSS/lib/python3.7/site-packages/numpy/compat/py3k.py\u001b[0m in \u001b[0;36masunicode\u001b[0;34m(s)\u001b[0m\n\u001b[1;32m     35\u001b[0m         \u001b[0;32mif\u001b[0m \u001b[0misinstance\u001b[0m\u001b[0;34m(\u001b[0m\u001b[0ms\u001b[0m\u001b[0;34m,\u001b[0m \u001b[0mbytes\u001b[0m\u001b[0;34m)\u001b[0m\u001b[0;34m:\u001b[0m\u001b[0;34m\u001b[0m\u001b[0;34m\u001b[0m\u001b[0m\n\u001b[1;32m     36\u001b[0m             \u001b[0;32mreturn\u001b[0m \u001b[0ms\u001b[0m\u001b[0;34m.\u001b[0m\u001b[0mdecode\u001b[0m\u001b[0;34m(\u001b[0m\u001b[0;34m'latin1'\u001b[0m\u001b[0;34m)\u001b[0m\u001b[0;34m\u001b[0m\u001b[0;34m\u001b[0m\u001b[0m\n\u001b[0;32m---> 37\u001b[0;31m         \u001b[0;32mreturn\u001b[0m \u001b[0mstr\u001b[0m\u001b[0;34m(\u001b[0m\u001b[0ms\u001b[0m\u001b[0;34m)\u001b[0m\u001b[0;34m\u001b[0m\u001b[0;34m\u001b[0m\u001b[0m\n\u001b[0m\u001b[1;32m     38\u001b[0m \u001b[0;34m\u001b[0m\u001b[0m\n\u001b[1;32m     39\u001b[0m     \u001b[0;32mdef\u001b[0m \u001b[0masbytes\u001b[0m\u001b[0;34m(\u001b[0m\u001b[0ms\u001b[0m\u001b[0;34m)\u001b[0m\u001b[0;34m:\u001b[0m\u001b[0;34m\u001b[0m\u001b[0;34m\u001b[0m\u001b[0m\n",
      "\u001b[0;31mKeyboardInterrupt\u001b[0m: "
     ]
    }
   ],
   "source": [
    "for css_id_num in tqdm(TDSS_cssid):\n",
    "    css_id = main_lc_data_files_path+str(css_id_num)+\".dat\"\n",
    "    #css_id_num = np.int(css_id.rstrip(\".dat\").lstrip(main_lc_data_files_path))\n",
    "    object_index = np.where(css_ids == css_id_num)[0][0]\n",
    "    object_ra = ra[object_index]\n",
    "    object_dec = dec[object_index]\n",
    "    TDSS_file_index = np.where(TDSS_cssid_orginal == css_id_num)[0][0]\n",
    "    is_Drake = np.isin(TDSS_file_index,TDSSprop.Drake_index)\n",
    "    ra_string = '{:0>9.5f}'.format(object_ra)\n",
    "    dec_string = '{:0=+10.5f}'.format(object_dec)\n",
    "    mjd = TDSSprop.TDSS_mjds[TDSS_file_index]\n",
    "    plate = TDSSprop.TDSS_plates[TDSS_file_index]\n",
    "    fiberid = TDSSprop.TDSS_fiberids[TDSS_file_index]\n",
    "    mjd_string = '{:0>5}'.format(str(np.int(mjd)))\n",
    "    plate_string = '{:0>4}'.format(str(np.int(plate)))\n",
    "    fiberid_string = '{:0>4}'.format(str(np.int(fiberid)))\n",
    "    short_filename = plate_string+\"-\"+mjd_string+\"-\"+fiberid_string+\".txt\"\n",
    "    long_filename = \"spec-\"+short_filename[:-4]+\".fits\"\n",
    "    id_DR = np.isin(long_filename, TDSSprop.DR14_spec_filenames)\n",
    "    if ~np.isin(css_id_num, csv_raw_ids):\n",
    "        continue\n",
    "    lc_data_pre_check = pd.read_csv(css_id, delim_whitespace = True, names = col_names)\n",
    "    lc_data = lc_data_pre_check.dropna(subset = col_names)\n",
    "    if len(lc_data)<50:\n",
    "        continue  \n",
    "    #start = timeit.default_timer()\n",
    "    #importlib.reload(vi) \n",
    "    try:\n",
    "        dataFrameIndex = np.where(latestFullVartoolsRun.lc_id == css_id_num)[0][0]\n",
    "    except IndexError:\n",
    "        continue\n",
    "    fig = plt.figure(figsize=(13,9), constrained_layout=True)\n",
    "    gs = GridSpec(2, 7, figure=fig, height_ratios=[1, 1], width_ratios=[1, 1, 1, 1, 0.4, 1, 1])#, hspace=0.3, wspace=0.5)\n",
    "    ax1 = fig.add_subplot(gs[0, :2])#LC\n",
    "    ax2 = fig.add_subplot(gs[0, 2:4])#SDSS DR12 Image\n",
    "    ax3 = fig.add_subplot(gs[0, 5:])#CMD?\n",
    "    ax4 = fig.add_subplot(gs[1, :])#spectra with lines\n",
    "    fig.suptitle('RA='+ra_string+' DEC='+dec_string, fontsize=16)\n",
    "    if is_Drake:\n",
    "        D_Per = TDSSprop.D_Per[TDSS_file_index]\n",
    "        D_Amp = TDSSprop.D_Amp[TDSS_file_index]\n",
    "        vartype_num = str(TDSSprop.vartype_num[TDSS_file_index])\n",
    "        vartype_index = np.where(TDSSprop.Drake_num_to_vartype[:,0] == vartype_num)[0][0]\n",
    "        D_Vartype = TDSSprop.Drake_num_to_vartype[vartype_index,1].strip()\n",
    "        #D_sub = TDSS_prop.data.field('SUBCLASS')[TDSS_file_index].replace(\"+\",\" \").split()[0]\n",
    "        properties[prop_id,2:-1] = vi.plot_CSS_LC_Drake(css_id, lc_dir, vartools_command, vartools_command_whitten, vartools_command_whitten2, vt_outdir, main_lc_data_files_path, D_Per, D_Amp, D_Vartype, long_filename, ax1, runVartools=runVartools, plotLCerr=plotLCerr, latestFullVartoolsRun=latestFullVartoolsRun)\n",
    "    else:\n",
    "        properties[prop_id,2:-1] = vi.plot_CSS_LC_noDrake(css_id, lc_dir, vartools_command, vartools_command_whitten, vartools_command_whitten2, vt_outdir, main_lc_data_files_path, long_filename, ax1, runVartools=runVartools, plotLCerr=plotLCerr, latestFullVartoolsRun=latestFullVartoolsRun)\n",
    "    properties[prop_id,0] = object_ra\n",
    "    properties[prop_id,1] = object_dec\n",
    "    # object_bp_rp = gaia_bp_rp[TDSS_file_index]\n",
    "    # object_M_G = gaia_Mg[TDSS_file_index]\n",
    "    object_SDSS_gmr = TDSSprop.SDSS_gmr[TDSS_file_index]\n",
    "    object_SDSS_Mr = TDSSprop.SDSS_M_r[TDSS_file_index]\n",
    "    object_SDSS_gmi = TDSSprop.SDSS_gmi[TDSS_file_index]\n",
    "    object_SDSS_Mi = TDSSprop.SDSS_M_i[TDSS_file_index]\n",
    "    object_SDSS_Mi_lo_err = TDSSprop.SDSS_M_i_lo_err[TDSS_file_index]\n",
    "    object_SDSS_Mi_hi_err = TDSSprop.SDSS_M_i_hi_err[TDSS_file_index]\n",
    "    if np.isin(short_filename, TDSSprop.prop_spec_filenames):\n",
    "        this_EqW = vi.plot_SDSS_prop_spec(plate, mjd, fiberid, object_SDSS_gmr, object_SDSS_Mr, TDSSprop, TDSS_file_index, box_size, spAll, ax4)\n",
    "    elif np.isin(long_filename, TDSSprop.DR14_spec_filenames):\n",
    "        this_EqW = vi.plot_SDSS_DR_spec(plate_string, mjd_string, fiberid_string, object_SDSS_gmr, object_SDSS_Mr, TDSSprop, TDSS_file_index, box_size, ax4)\n",
    "    else:\n",
    "        print(\"Error, spec isn't in DR14 OR prop lists.\")\n",
    "        print(\"ra =\",ra_string)\n",
    "        print(\"dec =\",dec_string)\n",
    "        print(long_filename)   \n",
    "    properties[prop_id, -1] =  this_EqW\n",
    "    #vi.plot_SDSS_photo(object_ra, object_dec, photo_img_dir, ax2)\n",
    "    vi.plot_middle(css_id_num, latestFullVartoolsRun, latestFullVartoolsRun.xi_2, latestFullVartoolsRun.yi_2, latestFullVartoolsRun.zi_2, ax2)\n",
    "    lowerlim_Mi = TDSSprop.lowerLimSDSS_M_i #object_SDSS_Mi\n",
    "    object_SDSS_Mi_lo_err = np.abs(object_SDSS_Mi - lowerlim_Mi[TDSS_file_index])\n",
    "    object_absM_errs = [[object_SDSS_Mi_lo_err], [object_SDSS_Mi_hi_err]]\n",
    "    object_color_errs = TDSSprop.SDSS_gmi_err[TDSS_file_index]\n",
    "    vi.plot_CMD(TDSSprop.xi, TDSSprop.yi, TDSSprop.zi, object_SDSS_gmi, object_color_errs, object_SDSS_Mi, object_absM_errs, TDSSprop.upperLimDist[TDSS_file_index], TDSSprop.lowerLimSDSS_M_i[TDSS_file_index], ax3)\n",
    "    #plt.savefig(Vi_plots_dir+ra_string+dec_string+\"_Vi.eps\",dpi=600,bbox_inches='tight')\n",
    "    plt.savefig(Vi_plots_dir+ra_string+dec_string+\"_Vi.png\",dpi=300,bbox_inches='tight')\n",
    "    #plt.show()\n",
    "    plt.clf()\n",
    "    plt.close()\n",
    "    np.savetxt(prop_out_dir+\"completed_Vi_prop_\"+datestr+\".csv\", properties, delimiter=\",\", header=prop_header, fmt=\"%f, %f, %i, %f, %f, %f, %f, %f, %f, %f, %f, %f, %f, %f, %f, %f, %f, %f, %f, %f, %f, %f, %i, %f, %f, %f, %f, %f, %f, %f, %f, %f,  %f\")\n",
    "    prop_id += 1"
   ]
  },
  {
   "cell_type": "code",
   "execution_count": null,
   "metadata": {},
   "outputs": [],
   "source": []
  }
 ],
 "metadata": {
  "kernelspec": {
   "display_name": "Python 3",
   "language": "python",
   "name": "python3"
  },
  "language_info": {
   "codemirror_mode": {
    "name": "ipython",
    "version": 3
   },
   "file_extension": ".py",
   "mimetype": "text/x-python",
   "name": "python",
   "nbconvert_exporter": "python",
   "pygments_lexer": "ipython3",
   "version": "3.7.5"
  }
 },
 "nbformat": 4,
 "nbformat_minor": 4
}
